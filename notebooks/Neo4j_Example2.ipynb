{
 "cells": [
  {
   "cell_type": "markdown",
   "metadata": {},
   "source": [
    "# Cytoscape Visualization using a remote Neo4j Database\n",
    "This notebook demonstrates the visualization of subgraphs from the [Neo4j](https://neo4j.com/) Graph Database. It uses the [py2neo](https://py2neo.org/) library to access a Neo4j database instance.\n",
    "\n",
    "The examples in this notebook access the [COVID-19-Net](https://github.com/covid-19-net/covid-19-community) Knowledge Graph.\n",
    "\n",
    "Author: Peter W. Rose (pwrose@ucsd.edu)"
   ]
  },
  {
   "cell_type": "code",
   "execution_count": 1,
   "metadata": {},
   "outputs": [],
   "source": [
    "import random\n",
    "import ipycytoscape\n",
    "from py2neo import Graph"
   ]
  },
  {
   "cell_type": "markdown",
   "metadata": {},
   "source": [
    "#### Node and edge styles"
   ]
  },
  {
   "cell_type": "code",
   "execution_count": 2,
   "metadata": {},
   "outputs": [],
   "source": [
    "# style for nodes with node names\n",
    "node_centered = {'selector': 'node',\n",
    "                 'style': {'font-size': '10px',\n",
    "                           'label': 'data(name)',\n",
    "                           'height': '60px',\n",
    "                           'width': '80px',\n",
    "                           'text-max-width': '80px',\n",
    "                           'text-wrap': 'wrap',\n",
    "                           'text-valign': 'center',\n",
    "                           'background-color': 'blue',\n",
    "                           'background-opacity': 0.6}\n",
    "                }"
   ]
  },
  {
   "cell_type": "code",
   "execution_count": 3,
   "metadata": {},
   "outputs": [],
   "source": [
    "# style for directed graph with arrows\n",
    "edge_directed = {'selector': 'edge',\n",
    "                 'style':  {'line-color': '#9dbaea',\n",
    "                            'curve-style': 'bezier',\n",
    "                            'target-arrow-shape': 'triangle',\n",
    "                            'target-arrow-color': '#9dbaea'}\n",
    "                }"
   ]
  },
  {
   "cell_type": "code",
   "execution_count": 4,
   "metadata": {},
   "outputs": [],
   "source": [
    "# style for directed graph with arrows and relationship names\n",
    "edge_directed_named = {'selector': 'edge',\n",
    "                       'style':  {'font-size': '8px',\n",
    "                                  'label': 'data(name)',\n",
    "                                  'line-color': '#9dbaea',\n",
    "                                  'text-rotation': 'autorotate',\n",
    "                                  'curve-style': 'bezier',\n",
    "                                  'target-arrow-shape': 'triangle',\n",
    "                                  'target-arrow-color': '#9dbaea'}\n",
    "                      }"
   ]
  },
  {
   "cell_type": "code",
   "execution_count": 5,
   "metadata": {},
   "outputs": [],
   "source": [
    "# style for undirected graph\n",
    "edge_undirected = {'selector': 'edge',\n",
    "                   'style':  {'line-color': '#9dbaea'}\n",
    "                  }"
   ]
  },
  {
   "cell_type": "markdown",
   "metadata": {},
   "source": [
    "#### Node colors\n",
    "Change seed to select a different color palette."
   ]
  },
  {
   "cell_type": "code",
   "execution_count": 6,
   "metadata": {},
   "outputs": [],
   "source": [
    "def random_color_palette(n_colors, seed=3):\n",
    "    \"\"\" \n",
    "    Creates a random color palette of n_colors \n",
    "    See https://stackoverflow.com/questions/28999287/generate-random-colors-rgb)\n",
    "    \n",
    "    \"\"\"\n",
    "    random.seed(seed)\n",
    "    return ['#'+''.join([random.choice('0123456789ABCDEF') for j in range(6)]) for i in range(n_colors)]"
   ]
  },
  {
   "cell_type": "markdown",
   "metadata": {},
   "source": [
    "### Connect to a Neo4j Database\n",
    "Here we use the [COVID-19-Net](https://github.com/covid-19-net/covid-19-community) Knowledge Graph to demonstrate how to run a Neo4j Cypher query and pass the resulting subgraph into Cytoscape."
   ]
  },
  {
   "cell_type": "code",
   "execution_count": 7,
   "metadata": {},
   "outputs": [],
   "source": [
    "graph = Graph(\"bolt://132.249.238.185:7687\", user=\"reader\", password=\"demo\")"
   ]
  },
  {
   "cell_type": "markdown",
   "metadata": {},
   "source": [
    "### Example 1: Find all cities with the name \"San Francisco\"\n",
    "This query demonstrates the geographic hierachy in COVID-19-Net."
   ]
  },
  {
   "cell_type": "code",
   "execution_count": 8,
   "metadata": {},
   "outputs": [],
   "source": [
    "query1 = \"\"\"\n",
    "MATCH p=(:City{name:'San Francisco'})-[:IN*]->(:World) RETURN p\n",
    "\"\"\"\n",
    "subgraph1 = graph.run(query1).to_subgraph()"
   ]
  },
  {
   "cell_type": "markdown",
   "metadata": {},
   "source": [
    "#### Add Neo4j subgraph to Cytoscape Widget"
   ]
  },
  {
   "cell_type": "code",
   "execution_count": 9,
   "metadata": {},
   "outputs": [
    {
     "name": "stdout",
     "output_type": "stream",
     "text": [
      "node id 7605109\n",
      "node id 7586164\n",
      "node id 7568755\n",
      "node id 7605107\n",
      "node id 7699279\n",
      "node id 7699278\n",
      "node id 7699277\n",
      "node id 7699276\n",
      "node id 7699275\n",
      "node id 7691594\n",
      "node id 7691593\n",
      "node id 7542089\n",
      "node id 7699271\n",
      "node id 7699270\n",
      "node id 7699269\n",
      "node id 7542084\n",
      "node id 7699272\n",
      "node id 7699273\n",
      "node id 7542081\n",
      "node id 7542080\n",
      "node id 7539551\n",
      "node id 7539550\n",
      "node id 7568686\n",
      "node id 7542061\n",
      "node id 7690556\n",
      "node id 7542073\n",
      "node id 7542072\n",
      "node id 7539511\n",
      "node id 7542071\n",
      "node id 7542067\n",
      "node id 7554352\n",
      "node id 7726350\n",
      "node id 7726347\n",
      "node id 7726346\n",
      "node id 7544585\n",
      "node id 7726340\n",
      "node id 7726339\n",
      "node id 7543042\n",
      "node id 7726337\n",
      "node id 7612162\n",
      "node id 7726367\n",
      "node id 7726366\n",
      "node id 7726336\n",
      "node id 7699274\n",
      "node id 7553812\n",
      "node id 7569170\n",
      "node id 7690732\n",
      "node id 7629281\n",
      "node id 7629280\n",
      "node id 7542270\n",
      "node id 7567863\n",
      "node id 7693263\n",
      "node id 7554510\n",
      "node id 7539659\n",
      "node id 7554507\n",
      "node id 7539679\n",
      "node id 7539676\n",
      "node id 7539675\n",
      "node id 7694809\n",
      "node id 7692715\n",
      "node id 7539598\n",
      "node id 7568777\n",
      "node id 7539592\n",
      "node id 7673735\n",
      "node id 7688582\n",
      "node id 7688581\n",
      "node id 7688580\n",
      "node id 7568768\n",
      "node id 7571865\n",
      "node id 7567439\n",
      "node id 7542351\n",
      "node id 7542348\n",
      "node id 7542347\n",
      "node id 7542346\n",
      "node id 7542345\n",
      "node id 7725128\n",
      "node id 7542344\n",
      "node id 7542341\n",
      "node id 7587417\n",
      "node id 7696983\n",
      "node id 7696982\n",
      "node id 7542306\n",
      "node id 7697954\n",
      "node id 7687733\n",
      "node id 7567367\n",
      "node id 7539712\n",
      "node id 7539740\n",
      "node id 7539735\n",
      "node id 7569133\n",
      "node id 7571693\n",
      "node id 7557865\n",
      "node id 7608034\n",
      "node id 7673570\n",
      "node id 7569151\n",
      "node id 7726327\n",
      "node id 7571700\n",
      "node id 7543503\n",
      "node id 7540427\n",
      "node id 7572170\n",
      "node id 7650505\n",
      "node id 7650504\n",
      "node id 7650503\n",
      "node id 7650502\n",
      "node id 7689925\n",
      "node id 7572168\n",
      "node id 7572167\n",
      "node id 7572162\n",
      "node id 7540955\n",
      "node id 7554769\n",
      "node id 7540432\n",
      "node id 7539885\n",
      "node id 7567521\n",
      "node id 7589024\n",
      "node id 7572159\n",
      "node id 7540414\n",
      "node id 7693501\n",
      "node id 7572149\n",
      "node id 7540405\n",
      "node id 7572108\n",
      "node id 7572106\n",
      "node id 7593098\n",
      "node id 7572103\n",
      "node id 7540870\n",
      "node id 7572101\n",
      "node id 7567489\n",
      "node id 7567004\n",
      "node id 7572119\n",
      "node id 7543445\n",
      "node id 7572116\n",
      "node id 7572114\n",
      "source 7539712\n",
      "target 7726366\n",
      "source 7726327\n",
      "target 7539735\n",
      "source 7697954\n",
      "target 7571865\n",
      "source 7726350\n",
      "target 7726340\n",
      "source 7542345\n",
      "target 7539679\n",
      "source 7540955\n",
      "target 7539598\n",
      "source 7539735\n",
      "target 7726347\n",
      "source 7690556\n",
      "target 7567439\n",
      "source 7688581\n",
      "target 7569170\n",
      "source 7572106\n",
      "target 7542348\n",
      "source 7572114\n",
      "target 7542344\n",
      "source 7699270\n",
      "target 7572116\n",
      "source 7726340\n",
      "target 7726337\n",
      "source 7542344\n",
      "target 7539679\n",
      "source 7650505\n",
      "target 7554507\n",
      "source 7688582\n",
      "target 7567521\n",
      "source 7567439\n",
      "target 7542073\n",
      "source 7699274\n",
      "target 7572168\n",
      "source 7572162\n",
      "target 7542344\n",
      "source 7699269\n",
      "target 7572101\n",
      "source 7539598\n",
      "target 7726366\n",
      "source 7699271\n",
      "target 7572162\n",
      "source 7542080\n",
      "target 7539659\n",
      "source 7540870\n",
      "target 7539592\n",
      "source 7539676\n",
      "target 7726367\n",
      "source 7571693\n",
      "target 7542270\n",
      "source 7542072\n",
      "target 7539659\n",
      "source 7568768\n",
      "target 7542080\n",
      "source 7554769\n",
      "target 7540432\n",
      "source 7569170\n",
      "target 7542061\n",
      "source 7693263\n",
      "target 7568686\n",
      "source 7567367\n",
      "target 7542084\n",
      "source 7542347\n",
      "target 7539679\n",
      "source 7569151\n",
      "target 7542061\n",
      "source 7726336\n",
      "target 7726327\n",
      "source 7629280\n",
      "target 7572149\n",
      "source 7726339\n",
      "target 7726337\n",
      "source 7542073\n",
      "target 7539659\n",
      "source 7572108\n",
      "target 7542351\n",
      "source 7605109\n",
      "target 7572170\n",
      "source 7542341\n",
      "target 7539679\n",
      "source 7693501\n",
      "target 7567004\n",
      "source 7542071\n",
      "target 7539659\n",
      "source 7571700\n",
      "target 7542270\n",
      "source 7572101\n",
      "target 7542346\n",
      "source 7542081\n",
      "target 7539659\n",
      "source 7589024\n",
      "target 7544585\n",
      "source 7539659\n",
      "target 7726366\n",
      "source 7542306\n",
      "target 7539676\n",
      "source 7699278\n",
      "target 7572103\n",
      "source 7688580\n",
      "target 7568755\n",
      "source 7544585\n",
      "target 7539885\n",
      "source 7572159\n",
      "target 7542347\n",
      "source 7699276\n",
      "target 7572167\n",
      "source 7540405\n",
      "target 7539550\n",
      "source 7726347\n",
      "target 7726339\n",
      "source 7557865\n",
      "target 7540870\n",
      "source 7543445\n",
      "target 7726336\n",
      "source 7612162\n",
      "target 7586164\n",
      "source 7567863\n",
      "target 7542081\n",
      "source 7542351\n",
      "target 7539679\n",
      "source 7539550\n",
      "target 7726367\n",
      "source 7572103\n",
      "target 7542341\n",
      "source 7692715\n",
      "target 7567367\n",
      "source 7554510\n",
      "target 7540427\n",
      "source 7691593\n",
      "target 7568777\n",
      "source 7726366\n",
      "target 7726346\n",
      "source 7572116\n",
      "target 7542346\n",
      "source 7696982\n",
      "target 7571700\n",
      "source 7629281\n",
      "target 7572159\n",
      "source 7650502\n",
      "target 7554352\n",
      "source 7542270\n",
      "target 7539675\n",
      "source 7691594\n",
      "target 7567863\n",
      "source 7726346\n",
      "target 7726339\n",
      "source 7543445\n",
      "target 7539735\n",
      "source 7539885\n",
      "target 7539511\n",
      "source 7650504\n",
      "target 7553812\n",
      "source 7687733\n",
      "target 7568768\n",
      "source 7572119\n",
      "target 7542346\n",
      "source 7572149\n",
      "target 7542347\n",
      "source 7569133\n",
      "target 7542071\n",
      "source 7726367\n",
      "target 7726346\n",
      "source 7696983\n",
      "target 7571693\n",
      "source 7605107\n",
      "target 7572119\n",
      "source 7673735\n",
      "target 7540955\n",
      "source 7699273\n",
      "target 7572168\n",
      "source 7593098\n",
      "target 7554769\n",
      "source 7690732\n",
      "target 7569151\n",
      "source 7673570\n",
      "target 7557865\n",
      "source 7542067\n",
      "target 7539659\n",
      "source 7608034\n",
      "target 7543042\n",
      "source 7567489\n",
      "target 7542072\n",
      "source 7699275\n",
      "target 7572108\n",
      "source 7554507\n",
      "target 7540405\n",
      "source 7554352\n",
      "target 7540427\n",
      "source 7543503\n",
      "target 7539740\n",
      "source 7699277\n",
      "target 7572106\n",
      "source 7699279\n",
      "target 7572103\n",
      "source 7571865\n",
      "target 7542306\n",
      "source 7699272\n",
      "target 7572114\n",
      "source 7543042\n",
      "target 7539712\n",
      "source 7694809\n",
      "target 7569133\n",
      "source 7539592\n",
      "target 7726366\n",
      "source 7572167\n",
      "target 7542345\n",
      "source 7540432\n",
      "target 7539551\n",
      "source 7568777\n",
      "target 7542080\n",
      "source 7542089\n",
      "target 7539659\n",
      "source 7689925\n",
      "target 7567489\n",
      "source 7539511\n",
      "target 7726367\n",
      "source 7567521\n",
      "target 7542072\n",
      "source 7539675\n",
      "target 7726366\n",
      "source 7539679\n",
      "target 7726350\n",
      "source 7540427\n",
      "target 7539550\n",
      "source 7539551\n",
      "target 7726366\n",
      "source 7568686\n",
      "target 7542067\n",
      "source 7542061\n",
      "target 7539659\n",
      "source 7587417\n",
      "target 7543503\n",
      "source 7572170\n",
      "target 7542341\n",
      "source 7553812\n",
      "target 7540414\n",
      "source 7542348\n",
      "target 7539679\n",
      "source 7542346\n",
      "target 7539679\n",
      "source 7572168\n",
      "target 7542351\n",
      "source 7539740\n",
      "target 7726367\n",
      "source 7725128\n",
      "target 7587417\n",
      "source 7650503\n",
      "target 7554510\n",
      "source 7568755\n",
      "target 7542080\n",
      "source 7540414\n",
      "target 7539550\n",
      "source 7567004\n",
      "target 7542089\n",
      "source 7542084\n",
      "target 7539659\n",
      "source 7586164\n",
      "target 7543445\n"
     ]
    }
   ],
   "source": [
    "widget1 = ipycytoscape.CytoscapeWidget()\n",
    "widget1.graph.add_graph_from_neo4j(subgraph1)"
   ]
  },
  {
   "cell_type": "markdown",
   "metadata": {},
   "source": [
    "#### Set node and edge styles"
   ]
  },
  {
   "cell_type": "code",
   "execution_count": 10,
   "metadata": {},
   "outputs": [],
   "source": [
    "style1 = [node_centered, edge_directed]"
   ]
  },
  {
   "cell_type": "markdown",
   "metadata": {},
   "source": [
    "#### Set node specific colors based on node labels"
   ]
  },
  {
   "cell_type": "code",
   "execution_count": 11,
   "metadata": {},
   "outputs": [
    {
     "name": "stdout",
     "output_type": "stream",
     "text": [
      "Node labels: ['World', 'City', 'UNSubRegion', 'Location', 'Admin2', 'UNIntermediateRegion', 'Country', 'Admin1', 'UNRegion', 'USDivision', 'USRegion']\n"
     ]
    }
   ],
   "source": [
    "labels1 = list(subgraph1.labels())\n",
    "print('Node labels:', labels1)"
   ]
  },
  {
   "cell_type": "code",
   "execution_count": 12,
   "metadata": {},
   "outputs": [],
   "source": [
    "colors1 = random_color_palette(len(labels1))"
   ]
  },
  {
   "cell_type": "code",
   "execution_count": 13,
   "metadata": {},
   "outputs": [],
   "source": [
    "for label, color in zip(labels1, colors1):\n",
    "    style1.append({'selector': 'node[label = \"' + label + '\"]', 'style': {'background-color': color}})"
   ]
  },
  {
   "cell_type": "code",
   "execution_count": 14,
   "metadata": {},
   "outputs": [],
   "source": [
    "widget1.set_style(style1)"
   ]
  },
  {
   "cell_type": "code",
   "execution_count": 15,
   "metadata": {},
   "outputs": [],
   "source": [
    "widget1.set_layout(name='dagre', padding=0)"
   ]
  },
  {
   "cell_type": "markdown",
   "metadata": {},
   "source": [
    "When a Neo4j subgraph is added to a Cytoscape graph, a ```tooltip``` attribute is generated that contains all Neo4j node properties."
   ]
  },
  {
   "cell_type": "code",
   "execution_count": 16,
   "metadata": {},
   "outputs": [],
   "source": [
    "widget1.set_tooltip_source('tooltip')"
   ]
  },
  {
   "cell_type": "markdown",
   "metadata": {},
   "source": [
    "Click on a node to show the tooltip."
   ]
  },
  {
   "cell_type": "code",
   "execution_count": 17,
   "metadata": {},
   "outputs": [
    {
     "data": {
      "application/vnd.jupyter.widget-view+json": {
       "model_id": "b0531e558d434dffb6dc02edf0ec2e71",
       "version_major": 2,
       "version_minor": 0
      },
      "text/plain": [
       "CytoscapeWidget(cytoscape_layout={'name': 'dagre', 'padding': 0}, cytoscape_style=[{'selector': 'node', 'style…"
      ]
     },
     "metadata": {},
     "output_type": "display_data"
    }
   ],
   "source": [
    "widget1"
   ]
  },
  {
   "cell_type": "markdown",
   "metadata": {},
   "source": [
    "### Example 2: Find all proteins that interact with the SARS-CoV-2 Spike protein\n",
    "Here we run an undirected query (without \"->\" arrow) since the direction of interaction is arbitrary."
   ]
  },
  {
   "cell_type": "code",
   "execution_count": 18,
   "metadata": {},
   "outputs": [],
   "source": [
    "query2 = \"\"\"\n",
    "MATCH p=(:Protein{name: 'Spike glycoprotein', taxonomyId: 'taxonomy:2697049'})-[:INTERACTS_WITH]-(:Protein) RETURN p\n",
    "\"\"\"\n",
    "subgraph2 = graph.run(query2).to_subgraph()"
   ]
  },
  {
   "cell_type": "code",
   "execution_count": 19,
   "metadata": {},
   "outputs": [
    {
     "name": "stdout",
     "output_type": "stream",
     "text": [
      "node id 8736619\n",
      "node id 8766053\n",
      "node id 8784480\n",
      "node id 8768376\n",
      "node id 8785526\n",
      "node id 8778612\n",
      "node id 8775110\n",
      "node id 8781893\n",
      "node id 8789214\n",
      "node id 8786268\n",
      "node id 8782938\n",
      "node id 9001943\n",
      "node id 8769750\n",
      "node id 8778577\n",
      "node id 8773039\n",
      "node id 8781615\n",
      "node id 8772390\n",
      "node id 8772006\n",
      "node id 8774192\n",
      "node id 8787087\n",
      "node id 8785072\n",
      "node id 8786061\n",
      "node id 8766215\n",
      "node id 8786951\n",
      "node id 8984581\n",
      "node id 8781316\n",
      "node id 8783745\n",
      "node id 8989852\n",
      "node id 8773268\n",
      "node id 8774675\n",
      "source 8736619\n",
      "target 8772006\n",
      "source 8769750\n",
      "target 8736619\n",
      "source 8736619\n",
      "target 8778612\n",
      "source 8778577\n",
      "target 8736619\n",
      "source 8984581\n",
      "target 8736619\n",
      "source 8786951\n",
      "target 8736619\n",
      "source 8783745\n",
      "target 8736619\n",
      "source 8773039\n",
      "target 8736619\n",
      "source 8787087\n",
      "target 8736619\n",
      "source 8736619\n",
      "target 8781316\n",
      "source 8736619\n",
      "target 8768376\n",
      "source 8766215\n",
      "target 8736619\n",
      "source 9001943\n",
      "target 8736619\n",
      "source 8786268\n",
      "target 8736619\n",
      "source 8774675\n",
      "target 8736619\n",
      "source 8782938\n",
      "target 8736619\n",
      "source 8736619\n",
      "target 8784480\n",
      "source 8736619\n",
      "target 8781893\n",
      "source 8789214\n",
      "target 8736619\n",
      "source 8736619\n",
      "target 8766053\n",
      "source 8736619\n",
      "target 8774192\n",
      "source 8736619\n",
      "target 8772390\n",
      "source 8736619\n",
      "target 8989852\n",
      "source 8773268\n",
      "target 8736619\n",
      "source 8785526\n",
      "target 8736619\n",
      "source 8781615\n",
      "target 8736619\n",
      "source 8786061\n",
      "target 8736619\n",
      "source 8736619\n",
      "target 8785072\n",
      "source 8736619\n",
      "target 8775110\n"
     ]
    }
   ],
   "source": [
    "widget2 = ipycytoscape.CytoscapeWidget()\n",
    "widget2.graph.add_graph_from_neo4j(subgraph2)"
   ]
  },
  {
   "cell_type": "code",
   "execution_count": 20,
   "metadata": {},
   "outputs": [],
   "source": [
    "style2 = [node_centered, edge_undirected]"
   ]
  },
  {
   "cell_type": "code",
   "execution_count": 21,
   "metadata": {},
   "outputs": [
    {
     "name": "stdout",
     "output_type": "stream",
     "text": [
      "Node labels: ['Protein']\n"
     ]
    }
   ],
   "source": [
    "labels2 = list(subgraph2.labels())\n",
    "print('Node labels:', labels2)"
   ]
  },
  {
   "cell_type": "code",
   "execution_count": 22,
   "metadata": {},
   "outputs": [],
   "source": [
    "colors2 = random_color_palette(len(labels2))"
   ]
  },
  {
   "cell_type": "code",
   "execution_count": 23,
   "metadata": {},
   "outputs": [],
   "source": [
    "for label, color in zip(labels2, colors2):\n",
    "    style2.append({'selector': 'node[label = \"' + label + '\"]', 'style': {'background-color': color}})"
   ]
  },
  {
   "cell_type": "code",
   "execution_count": 24,
   "metadata": {},
   "outputs": [],
   "source": [
    "widget2.set_style(style2)"
   ]
  },
  {
   "cell_type": "code",
   "execution_count": 25,
   "metadata": {},
   "outputs": [],
   "source": [
    "widget2.set_layout(name='concentric', padding=0)"
   ]
  },
  {
   "cell_type": "code",
   "execution_count": 26,
   "metadata": {},
   "outputs": [],
   "source": [
    "widget2.set_tooltip_source('tooltip')"
   ]
  },
  {
   "cell_type": "code",
   "execution_count": 48,
   "metadata": {},
   "outputs": [],
   "source": [
    "# TODO relationships are not rendered correctly ???"
   ]
  },
  {
   "cell_type": "markdown",
   "metadata": {},
   "source": [
    "Click on a node to show the tooltip."
   ]
  },
  {
   "cell_type": "code",
   "execution_count": 27,
   "metadata": {},
   "outputs": [
    {
     "data": {
      "application/vnd.jupyter.widget-view+json": {
       "model_id": "0a4eceb788a04d74bafed6cc3b7c8b73",
       "version_major": 2,
       "version_minor": 0
      },
      "text/plain": [
       "CytoscapeWidget(cytoscape_layout={'name': 'concentric', 'padding': 0}, cytoscape_style=[{'selector': 'node', '…"
      ]
     },
     "metadata": {},
     "output_type": "display_data"
    }
   ],
   "source": [
    "widget2"
   ]
  },
  {
   "cell_type": "markdown",
   "metadata": {},
   "source": [
    "### Example 3: Explore the Data Sources used to create the COVID-19-Net Knowledge Graph"
   ]
  },
  {
   "cell_type": "code",
   "execution_count": 28,
   "metadata": {},
   "outputs": [],
   "source": [
    "query3 = \"\"\"\n",
    "MATCH p=(:MetaNode)-[:ETL_FROM]->(:DataSource) RETURN p  // ETL_FROM: Extracted, transformed, and loaded FROM\n",
    "\"\"\"\n",
    "subgraph3 = graph.run(query3).to_subgraph()"
   ]
  },
  {
   "cell_type": "code",
   "execution_count": 29,
   "metadata": {},
   "outputs": [
    {
     "name": "stdout",
     "output_type": "stream",
     "text": [
      "node id 5253615\n",
      "node id 5253614\n",
      "node id 5253613\n",
      "node id 5253612\n",
      "node id 5253611\n",
      "node id 5253610\n",
      "node id 5253609\n",
      "node id 5253608\n",
      "node id 5253607\n",
      "node id 5253605\n",
      "node id 5253604\n",
      "node id 5253603\n",
      "node id 5253602\n",
      "node id 5253601\n",
      "node id 5253600\n",
      "node id 5253582\n",
      "node id 5253581\n",
      "node id 5253580\n",
      "node id 5253579\n",
      "node id 5253578\n",
      "node id 5253577\n",
      "node id 5253576\n",
      "node id 5253575\n",
      "node id 5253574\n",
      "node id 5253573\n",
      "node id 5253572\n",
      "node id 5253571\n",
      "node id 5253570\n",
      "node id 5253569\n",
      "node id 5253568\n",
      "node id 5253597\n",
      "node id 5253596\n",
      "node id 5253595\n",
      "node id 5253594\n",
      "node id 5253593\n",
      "node id 5253592\n",
      "node id 5253591\n",
      "node id 5253590\n",
      "node id 5253589\n",
      "node id 5253588\n",
      "node id 5253587\n",
      "node id 5253586\n",
      "node id 5253585\n",
      "node id 5253584\n",
      "node id 5253567\n",
      "node id 5253566\n",
      "node id 5253565\n",
      "node id 5253564\n",
      "node id 5253563\n",
      "node id 5253562\n",
      "node id 5253561\n",
      "node id 5253560\n",
      "node id 5253559\n",
      "node id 5253558\n",
      "node id 5253556\n",
      "source 5253586\n",
      "target 5253607\n",
      "source 5253595\n",
      "target 5253601\n",
      "source 5253572\n",
      "target 5253604\n",
      "source 5253562\n",
      "target 5253601\n",
      "source 5253571\n",
      "target 5253605\n",
      "source 5253566\n",
      "target 5253602\n",
      "source 5253556\n",
      "target 5253600\n",
      "source 5253574\n",
      "target 5253607\n",
      "source 5253593\n",
      "target 5253601\n",
      "source 5253581\n",
      "target 5253607\n",
      "source 5253586\n",
      "target 5253614\n",
      "source 5253567\n",
      "target 5253601\n",
      "source 5253559\n",
      "target 5253603\n",
      "source 5253556\n",
      "target 5253604\n",
      "source 5253561\n",
      "target 5253600\n",
      "source 5253584\n",
      "target 5253611\n",
      "source 5253587\n",
      "target 5253601\n",
      "source 5253575\n",
      "target 5253607\n",
      "source 5253586\n",
      "target 5253609\n",
      "source 5253578\n",
      "target 5253609\n",
      "source 5253579\n",
      "target 5253608\n",
      "source 5253576\n",
      "target 5253612\n",
      "source 5253580\n",
      "target 5253613\n",
      "source 5253573\n",
      "target 5253607\n",
      "source 5253580\n",
      "target 5253607\n",
      "source 5253556\n",
      "target 5253602\n",
      "source 5253585\n",
      "target 5253611\n",
      "source 5253588\n",
      "target 5253601\n",
      "source 5253569\n",
      "target 5253601\n",
      "source 5253578\n",
      "target 5253607\n",
      "source 5253558\n",
      "target 5253603\n",
      "source 5253564\n",
      "target 5253601\n",
      "source 5253597\n",
      "target 5253601\n",
      "source 5253556\n",
      "target 5253603\n",
      "source 5253584\n",
      "target 5253610\n",
      "source 5253575\n",
      "target 5253609\n",
      "source 5253585\n",
      "target 5253609\n",
      "source 5253563\n",
      "target 5253600\n",
      "source 5253565\n",
      "target 5253600\n",
      "source 5253570\n",
      "target 5253601\n",
      "source 5253591\n",
      "target 5253601\n",
      "source 5253568\n",
      "target 5253604\n",
      "source 5253579\n",
      "target 5253607\n",
      "source 5253576\n",
      "target 5253608\n",
      "source 5253582\n",
      "target 5253609\n",
      "source 5253580\n",
      "target 5253609\n",
      "source 5253556\n",
      "target 5253601\n",
      "source 5253589\n",
      "target 5253601\n",
      "source 5253585\n",
      "target 5253610\n",
      "source 5253577\n",
      "target 5253607\n",
      "source 5253596\n",
      "target 5253601\n",
      "source 5253563\n",
      "target 5253601\n",
      "source 5253592\n",
      "target 5253601\n",
      "source 5253572\n",
      "target 5253615\n",
      "source 5253594\n",
      "target 5253601\n",
      "source 5253564\n",
      "target 5253600\n",
      "source 5253571\n",
      "target 5253604\n",
      "source 5253562\n",
      "target 5253600\n",
      "source 5253565\n",
      "target 5253602\n",
      "source 5253590\n",
      "target 5253601\n",
      "source 5253574\n",
      "target 5253609\n",
      "source 5253584\n",
      "target 5253609\n",
      "source 5253560\n",
      "target 5253603\n",
      "source 5253579\n",
      "target 5253609\n",
      "source 5253581\n",
      "target 5253609\n",
      "source 5253576\n",
      "target 5253607\n"
     ]
    }
   ],
   "source": [
    "widget3 = ipycytoscape.CytoscapeWidget()\n",
    "widget3.graph.add_graph_from_neo4j(subgraph3)"
   ]
  },
  {
   "cell_type": "code",
   "execution_count": 30,
   "metadata": {},
   "outputs": [],
   "source": [
    "style3 = [node_centered, edge_directed]"
   ]
  },
  {
   "cell_type": "code",
   "execution_count": 31,
   "metadata": {},
   "outputs": [
    {
     "name": "stdout",
     "output_type": "stream",
     "text": [
      "Node labels: ['MetaNode', 'DataSource']\n"
     ]
    }
   ],
   "source": [
    "labels3 = list(subgraph3.labels())\n",
    "print('Node labels:', labels3)"
   ]
  },
  {
   "cell_type": "code",
   "execution_count": 32,
   "metadata": {},
   "outputs": [],
   "source": [
    "colors3 = random_color_palette(len(labels3))"
   ]
  },
  {
   "cell_type": "code",
   "execution_count": 33,
   "metadata": {},
   "outputs": [],
   "source": [
    "for label, color in zip(labels3, colors3):\n",
    "    style3.append({'selector': 'node[label = \"' + label + '\"]', 'style': {'background-color': color}})"
   ]
  },
  {
   "cell_type": "code",
   "execution_count": 34,
   "metadata": {},
   "outputs": [],
   "source": [
    "widget3.set_style(style3)"
   ]
  },
  {
   "cell_type": "code",
   "execution_count": 35,
   "metadata": {},
   "outputs": [],
   "source": [
    "widget3.set_layout(name='klay', padding=0)"
   ]
  },
  {
   "cell_type": "code",
   "execution_count": 36,
   "metadata": {},
   "outputs": [],
   "source": [
    "widget3.set_tooltip_source('tooltip')"
   ]
  },
  {
   "cell_type": "markdown",
   "metadata": {},
   "source": [
    "Click on a node to show the tooltip."
   ]
  },
  {
   "cell_type": "code",
   "execution_count": 37,
   "metadata": {},
   "outputs": [
    {
     "data": {
      "application/vnd.jupyter.widget-view+json": {
       "model_id": "2c6dc8b015c74d269fc5992294503fb0",
       "version_major": 2,
       "version_minor": 0
      },
      "text/plain": [
       "CytoscapeWidget(cytoscape_layout={'name': 'klay', 'padding': 0}, cytoscape_style=[{'selector': 'node', 'style'…"
      ]
     },
     "metadata": {},
     "output_type": "display_data"
    }
   ],
   "source": [
    "widget3"
   ]
  },
  {
   "cell_type": "markdown",
   "metadata": {},
   "source": [
    "### Example 4: Create a Metagraph that shows the Nodes and their Relationships in the COVID-19-Net Knowledge Graph"
   ]
  },
  {
   "cell_type": "code",
   "execution_count": 38,
   "metadata": {},
   "outputs": [],
   "source": [
    "query4 = \"\"\"\n",
    "MATCH p=(a:MetaNode)-[:META_RELATIONSHIP]->(b:MetaNode) \n",
    "WHERE a.name <> 'Location' AND b.name <> 'Location' // exclude Location nodes since they make the graph too crowded\n",
    "RETURN p\n",
    "\"\"\"\n",
    "subgraph4 = graph.run(query4).to_subgraph()"
   ]
  },
  {
   "cell_type": "code",
   "execution_count": 39,
   "metadata": {},
   "outputs": [
    {
     "name": "stdout",
     "output_type": "stream",
     "text": [
      "node id 5253583\n",
      "node id 5253582\n",
      "node id 5253581\n",
      "node id 5253580\n",
      "node id 5253579\n",
      "node id 5253578\n",
      "node id 5253577\n",
      "node id 5253576\n",
      "node id 5253575\n",
      "node id 5253574\n",
      "node id 5253573\n",
      "node id 5253572\n",
      "node id 5253571\n",
      "node id 5253570\n",
      "node id 5253569\n",
      "node id 5253568\n",
      "node id 5253597\n",
      "node id 5253596\n",
      "node id 5253595\n",
      "node id 5253594\n",
      "node id 5253593\n",
      "node id 5253592\n",
      "node id 5253591\n",
      "node id 5253590\n",
      "node id 5253589\n",
      "node id 5253588\n",
      "node id 5253587\n",
      "node id 5253586\n",
      "node id 5253585\n",
      "node id 5253584\n",
      "node id 5253567\n",
      "node id 5253566\n",
      "node id 5253565\n",
      "node id 5253564\n",
      "node id 5253563\n",
      "node id 5253562\n",
      "node id 5253561\n",
      "node id 5253560\n",
      "node id 5253559\n",
      "node id 5253558\n",
      "node id 5253557\n",
      "source 5253590\n",
      "target 5253596\n",
      "source 5253582\n",
      "target 5253584\n",
      "source 5253563\n",
      "target 5253597\n",
      "source 5253564\n",
      "target 5253562\n",
      "source 5253576\n",
      "target 5253562\n",
      "source 5253573\n",
      "target 5253573\n",
      "source 5253573\n",
      "target 5253573\n",
      "source 5253573\n",
      "target 5253576\n",
      "source 5253573\n",
      "target 5253576\n",
      "source 5253580\n",
      "target 5253580\n",
      "source 5253580\n",
      "target 5253580\n",
      "source 5253573\n",
      "target 5253574\n",
      "source 5253571\n",
      "target 5253568\n",
      "source 5253560\n",
      "target 5253559\n",
      "source 5253576\n",
      "target 5253579\n",
      "source 5253586\n",
      "target 5253576\n",
      "source 5253571\n",
      "target 5253563\n",
      "source 5253565\n",
      "target 5253567\n",
      "source 5253571\n",
      "target 5253564\n",
      "source 5253586\n",
      "target 5253574\n",
      "source 5253574\n",
      "target 5253576\n",
      "source 5253590\n",
      "target 5253591\n",
      "source 5253564\n",
      "target 5253563\n",
      "source 5253566\n",
      "target 5253597\n",
      "source 5253590\n",
      "target 5253594\n",
      "source 5253586\n",
      "target 5253580\n",
      "source 5253561\n",
      "target 5253558\n",
      "source 5253587\n",
      "target 5253589\n",
      "source 5253576\n",
      "target 5253564\n",
      "source 5253563\n",
      "target 5253587\n",
      "source 5253563\n",
      "target 5253590\n",
      "source 5253565\n",
      "target 5253587\n",
      "source 5253561\n",
      "target 5253559\n",
      "source 5253571\n",
      "target 5253562\n",
      "source 5253571\n",
      "target 5253572\n",
      "source 5253577\n",
      "target 5253579\n",
      "source 5253558\n",
      "target 5253557\n",
      "source 5253590\n",
      "target 5253592\n",
      "source 5253590\n",
      "target 5253593\n",
      "source 5253575\n",
      "target 5253577\n",
      "source 5253574\n",
      "target 5253575\n",
      "source 5253565\n",
      "target 5253597\n",
      "source 5253580\n",
      "target 5253584\n",
      "source 5253587\n",
      "target 5253588\n",
      "source 5253566\n",
      "target 5253587\n",
      "source 5253565\n",
      "target 5253563\n",
      "source 5253582\n",
      "target 5253582\n",
      "source 5253566\n",
      "target 5253565\n",
      "source 5253580\n",
      "target 5253579\n",
      "source 5253577\n",
      "target 5253580\n",
      "source 5253562\n",
      "target 5253570\n",
      "source 5253563\n",
      "target 5253567\n",
      "source 5253582\n",
      "target 5253583\n",
      "source 5253577\n",
      "target 5253578\n",
      "source 5253561\n",
      "target 5253560\n",
      "source 5253566\n",
      "target 5253590\n",
      "source 5253570\n",
      "target 5253569\n",
      "source 5253566\n",
      "target 5253563\n",
      "source 5253582\n",
      "target 5253580\n",
      "source 5253576\n",
      "target 5253568\n",
      "source 5253571\n",
      "target 5253561\n",
      "source 5253559\n",
      "target 5253558\n",
      "source 5253573\n",
      "target 5253572\n",
      "source 5253566\n",
      "target 5253567\n",
      "source 5253576\n",
      "target 5253563\n",
      "source 5253568\n",
      "target 5253557\n",
      "source 5253562\n",
      "target 5253561\n",
      "source 5253576\n",
      "target 5253561\n",
      "source 5253565\n",
      "target 5253590\n",
      "source 5253564\n",
      "target 5253561\n",
      "source 5253571\n",
      "target 5253565\n",
      "source 5253584\n",
      "target 5253585\n",
      "source 5253563\n",
      "target 5253562\n",
      "source 5253580\n",
      "target 5253581\n",
      "source 5253586\n",
      "target 5253585\n",
      "source 5253590\n",
      "target 5253595\n",
      "source 5253569\n",
      "target 5253561\n"
     ]
    }
   ],
   "source": [
    "widget4 = ipycytoscape.CytoscapeWidget()\n",
    "widget4.graph.add_graph_from_neo4j(subgraph4)"
   ]
  },
  {
   "cell_type": "code",
   "execution_count": 40,
   "metadata": {},
   "outputs": [],
   "source": [
    "style4 = [node_centered, edge_directed_named]"
   ]
  },
  {
   "cell_type": "code",
   "execution_count": 41,
   "metadata": {},
   "outputs": [
    {
     "name": "stdout",
     "output_type": "stream",
     "text": [
      "Node labels: ['MetaNode']\n"
     ]
    }
   ],
   "source": [
    "labels4 = list(subgraph4.labels())\n",
    "print('Node labels:', labels4)"
   ]
  },
  {
   "cell_type": "code",
   "execution_count": 42,
   "metadata": {},
   "outputs": [],
   "source": [
    "colors4 = random_color_palette(len(labels4))"
   ]
  },
  {
   "cell_type": "code",
   "execution_count": 43,
   "metadata": {},
   "outputs": [],
   "source": [
    "for label, color in zip(labels4, colors4):\n",
    "    style4.append({'selector': 'node[label = \"' + label + '\"]', 'style': {'background-color': color}})"
   ]
  },
  {
   "cell_type": "code",
   "execution_count": 44,
   "metadata": {},
   "outputs": [],
   "source": [
    "widget4.set_style(style4)"
   ]
  },
  {
   "cell_type": "markdown",
   "metadata": {},
   "source": [
    "Cola layout [options](https://github.com/cytoscape/cytoscape.js-cola#api)"
   ]
  },
  {
   "cell_type": "code",
   "execution_count": 45,
   "metadata": {},
   "outputs": [],
   "source": [
    "widget4.set_layout(name='cola', padding=0, nodeSpacing=65, nodeDimensionsIncludeLabels=True, unconstrIter=5000)"
   ]
  },
  {
   "cell_type": "code",
   "execution_count": 46,
   "metadata": {},
   "outputs": [],
   "source": [
    "widget4.set_tooltip_source('tooltip')"
   ]
  },
  {
   "cell_type": "markdown",
   "metadata": {},
   "source": [
    "Click on a node to show the tooltip"
   ]
  },
  {
   "cell_type": "code",
   "execution_count": 47,
   "metadata": {},
   "outputs": [
    {
     "data": {
      "application/vnd.jupyter.widget-view+json": {
       "model_id": "6df486cf5bff4d30b52106f2f112757f",
       "version_major": 2,
       "version_minor": 0
      },
      "text/plain": [
       "CytoscapeWidget(cytoscape_layout={'name': 'cola', 'padding': 0, 'nodeSpacing': 65, 'nodeDimensionsIncludeLabel…"
      ]
     },
     "metadata": {},
     "output_type": "display_data"
    }
   ],
   "source": [
    "widget4"
   ]
  }
 ],
 "metadata": {
  "kernelspec": {
   "display_name": "Python 3",
   "language": "python",
   "name": "python3"
  },
  "language_info": {
   "codemirror_mode": {
    "name": "ipython",
    "version": 3
   },
   "file_extension": ".py",
   "mimetype": "text/x-python",
   "name": "python",
   "nbconvert_exporter": "python",
   "pygments_lexer": "ipython3",
   "version": "3.9.2"
  }
 },
 "nbformat": 4,
 "nbformat_minor": 4
}
